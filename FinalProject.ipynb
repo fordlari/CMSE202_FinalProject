{
 "cells": [
  {
   "cell_type": "code",
   "execution_count": 1,
   "metadata": {},
   "outputs": [],
   "source": [
    "import matplotlib.pyplot as plt\n",
    "%matplotlib inline\n",
    "import numpy as np\n",
    "from IPython.display import display, clear_output\n",
    "import time\n",
    "import random"
   ]
  },
  {
   "cell_type": "code",
   "execution_count": null,
   "metadata": {},
   "outputs": [],
   "source": [
    "class Prey():# creating class for species- feel free to rename\n",
    "    def __init__(self):\n",
    "        #basic starting  stuffs\n",
    "        self.x = np.random.uniform(0, 100)  # initial random x position\n",
    "        self.y = np.random.uniform(0, 100)  # initial random y position\n",
    "        self.speed = np.random.uniform(2,3)  # non-directional speed\n",
    "        self.x_vel = np.random.uniform(0,2)*np.random.choice([-1,1])  # initial random x velocity\n",
    "        self.y_vel = np.sqrt((self.speed**2-self.x_vel**2))*np.random.choice([-1,1])  # calculate y-velocity based on speed and x-velocity\n",
    "        self.color= None\n",
    "    def reproduce(self):\n",
    "        \n",
    "    "
   ]
  }
 ],
 "metadata": {
  "kernelspec": {
   "display_name": "Python 3",
   "language": "python",
   "name": "python3"
  },
  "language_info": {
   "codemirror_mode": {
    "name": "ipython",
    "version": 3
   },
   "file_extension": ".py",
   "mimetype": "text/x-python",
   "name": "python",
   "nbconvert_exporter": "python",
   "pygments_lexer": "ipython3",
   "version": "3.7.4"
  }
 },
 "nbformat": 4,
 "nbformat_minor": 2
}
