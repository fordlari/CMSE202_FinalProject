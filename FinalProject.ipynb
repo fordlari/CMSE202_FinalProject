{
 "cells": [
  {
   "cell_type": "markdown",
   "metadata": {},
   "source": [
    "# CMSE 202 Final Project: Evolution/Natural Selection\n",
    "\n",
    "Larissa Ford, Bryan Wen, Zachary Harless"
   ]
  },
  {
   "cell_type": "markdown",
   "metadata": {},
   "source": [
    "## Check Point\n",
    "#### 1) Statement of the problem. Describe the problem and why it is interesting, important, difficult etc.\n",
    "Modeling evolution and Natural selection. We will model different scenarios to see how environment and external factors can influence the evolution of a species. This is especially important in our rapidly changing world with global warming, habitat destruction, and  pollution. The most difficult part of the problem will most likely be finding data to compare our model to. There is not a lot of evolution data available for download which will make it harder to decide which attributes are the most important when constructing a model of this type.\n",
    "\n",
    "#### 2) Data you will use. What data are you going to utilize? Can you describe the quality of the data (how much, how recent, how accurate, etc.)\n",
    "We can look at studies of natural selection to see if our model is accurate in order to tweak randomness and variables.\n",
    "\n",
    "https://www.kaggle.com/uciml/zoo-animal-classification\n",
    "We could use this dataset to get some base attributes for our species\n",
    "#### 3) What kind of model are you going to develop? Say something about your model (how appropriate it is for your data, its strengths and weaknesses, etc.)\n",
    "We will develop an object oriented system in different environments with different interspecies interactions and features. A strength of this model is its variablity which allows many factors to be quickly changed and tested. A weakness is fact that getting accurate interactions with the environment may prove difficult. This is more appropriate than a machine learning model because there are too many attributes/variables to try and predict at every iteration which would result in a high computational cost.\n",
    "\n",
    "#### 4) How will you test your model? What evaluation criteria are you going to use?\n",
    " We will find some studies and predict what our population should look like after a period of time. We will not get exact values due to the randomness that is found in nature and will be represented in our model, but we will be able to see the general trends and whether our predictions are accurate. \n",
    " \n",
    "#### 5) Provide your results. Indicate how well your model matched the data (did you do training vs testing, what size, etc.)\n",
    "To be completed\n",
    "\n",
    "#### 6) Conclusions. Things you might do differently, problems you ran into, etc.\n",
    "To be completed\n"
   ]
  },
  {
   "cell_type": "code",
   "execution_count": 1,
   "metadata": {},
   "outputs": [],
   "source": [
    "import matplotlib.pyplot as plt\n",
    "%matplotlib inline\n",
    "import numpy as np\n",
    "from IPython.display import display, clear_output\n",
    "import time\n",
    "import random"
   ]
  },
  {
   "cell_type": "code",
   "execution_count": 1,
   "metadata": {},
   "outputs": [],
   "source": [
    "class Prey():# creating class for species- feel free to rename\n",
    "    def __init__(self):\n",
    "        #basic starting  stuffs\n",
    "        self.x = np.random.uniform(0, 100)  # initial random x position\n",
    "        self.y = np.random.uniform(0, 100)  # initial random y position\n",
    "        self.speed = np.random.uniform(2,3)  # non-directional speed\n",
    "        self.x_vel = np.random.uniform(0,2)*np.random.choice([-1,1])  # initial random x velocity\n",
    "        self.y_vel = np.sqrt((self.speed**2-self.x_vel**2))*np.random.choice([-1,1])  # calculate y-velocity based on speed and x-velocity\n",
    "        self.color= None\n",
    "        self.age\n",
    "    def reproduce(self):\n",
    "        children = []\n",
    "        children.append(Prey(self.x, self.y, age=0))\n",
    "    "
   ]
  },
  {
   "cell_type": "code",
   "execution_count": null,
   "metadata": {},
   "outputs": [],
   "source": []
  }
 ],
 "metadata": {
  "kernelspec": {
   "display_name": "Python 3",
   "language": "python",
   "name": "python3"
  },
  "language_info": {
   "codemirror_mode": {
    "name": "ipython",
    "version": 3
   },
   "file_extension": ".py",
   "mimetype": "text/x-python",
   "name": "python",
   "nbconvert_exporter": "python",
   "pygments_lexer": "ipython3",
   "version": "3.7.4"
  }
 },
 "nbformat": 4,
 "nbformat_minor": 2
}
