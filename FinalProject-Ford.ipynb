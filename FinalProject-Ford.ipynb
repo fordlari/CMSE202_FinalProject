{
 "cells": [
  {
   "cell_type": "markdown",
   "metadata": {},
   "source": [
    "# CMSE 202 Final Project: Evolution/Natural Selection\n",
    "\n",
    "Larissa Ford, Bryan Wen, Zachary Harless"
   ]
  },
  {
   "cell_type": "markdown",
   "metadata": {},
   "source": [
    "## Check Point\n",
    "#### 1) Statement of the problem. Describe the problem and why it is interesting, important, difficult etc.\n",
    "Modeling evolution and Natural selection. We will model different scenarios to see how environment and external factors can influence the evolution of a species. This is especially important in our rapidly changing world with global warming, habitat destruction, and  pollution. The most difficult part of the problem will most likely be finding data to compare our model to. There is not a lot of evolution data available for download which will make it harder to decide which attributes are the most important when constructing a model of this type.\n",
    "\n",
    "#### 2) Data you will use. What data are you going to utilize? Can you describe the quality of the data (how much, how recent, how accurate, etc.)\n",
    "We can look at studies of natural selection to see if our model is accurate in order to tweak randomness and variables.\n",
    "\n",
    "https://www.kaggle.com/uciml/zoo-animal-classification\n",
    "We could use this dataset to get some base attributes for our species\n",
    "#### 3) What kind of model are you going to develop? Say something about your model (how appropriate it is for your data, its strengths and weaknesses, etc.)\n",
    "We will develop an object oriented system in different environments with different interspecies interactions and features. A strength of this model is its variablity which allows many factors to be quickly changed and tested. A weakness is fact that getting accurate interactions with the environment may prove difficult. This is more appropriate than a machine learning model because there are too many attributes/variables to try and predict at every iteration which would result in a high computational cost.\n",
    "\n",
    "#### 4) How will you test your model? What evaluation criteria are you going to use?\n",
    " We will find some studies and predict what our population should look like after a period of time. We will not get exact values due to the randomness that is found in nature and will be represented in our model, but we will be able to see the general trends and whether our predictions are accurate. \n",
    " \n",
    "#### 5) Provide your results. Indicate how well your model matched the data (did you do training vs testing, what size, etc.)\n",
    "To be completed\n",
    "\n",
    "#### 6) Conclusions. Things you might do differently, problems you ran into, etc.\n",
    "To be completed\n"
   ]
  },
  {
   "cell_type": "code",
   "execution_count": 62,
   "metadata": {},
   "outputs": [],
   "source": [
    "import matplotlib.pyplot as plt\n",
    "%matplotlib inline\n",
    "import numpy as np\n",
    "from IPython.display import display, clear_output\n",
    "import time\n",
    "import random\n",
    "maxx=100\n",
    "maxy=100\n",
    "import seaborn as sns"
   ]
  },
  {
   "cell_type": "code",
   "execution_count": 49,
   "metadata": {},
   "outputs": [],
   "source": [
    "#I was having difficulties executing the code how I wanted with selective pressure affecting both species so I decided to just have prey reproduce and die. Predators are constant\n",
    "\n",
    "class Predator():# creating class for species- feel free to rename\n",
    "    def __init__(self, age=10):\n",
    "        #basic starting  stuffs\n",
    "        self.x = np.random.uniform(0, 100)  # initial random x position\n",
    "        self.y = np.random.uniform(0, 100)  # initial random y position\n",
    "        self.speed = np.random.uniform(2,3)  # non-directional speed\n",
    "        self.x_vel = np.random.uniform(0,2)*np.random.choice([-1,1])  # initial random x velocity\n",
    "        self.y_vel = np.sqrt((self.speed**2-self.x_vel**2))*np.random.choice([-1,1])  # calculate y-velocity based on speed and x-velocity\n",
    "        self.color= None\n",
    "        self.age = age\n",
    "        self.max_age= 500#maximum age of animal\n",
    "        self.offspring = 4#number of offspring\n",
    "        self.hunger= 400#hunger level-- will die at 0\n",
    "        self.diet= Predator#predator, herbivore\n",
    "        self.range= 10# the area the animal can detect another\n",
    "        self.attack_range =4# the proximity needed to kill\n",
    "        self.dead = 0\n",
    "        self.pregnant=False\n",
    "        self.pregnancy_time=4\n",
    "        self.reproductive_affinity=np.random.randint(10)\n",
    "        self.max_speed=np.random.uniform(10)\n",
    "    def birth(self):\n",
    "        children = []  # list of new children\n",
    "        if self.pregnancy_time==0:  #if pregnancy_time is 0, will give birth\n",
    "            for i in range(self.offspring):  # make new children with same position\n",
    "                child=Predator()\n",
    "                child.speed=self.speed+np.random.uniform(0,2)*np.random.choice([-1,1])\n",
    "                child.max_age=self.max_age+np.random.uniform(0,2)*np.random.choice([-1,1])\n",
    "                child.range=self.range+np.random.uniform(0,2)*np.random.choice([-1,1])\n",
    "                child.attack_range=self.attack_range+np.random.uniform(0,2)*np.random.choice([-1,1])\n",
    "                child.max_speed=(self.max_speed+np.random.uniform(0,2)*np.random.choice([-1,1]))\n",
    "                self.age=0\n",
    "                child.x=self.x\n",
    "                child.y=self.y\n",
    "                child.x_vel = np.random.uniform(0,2)*np.random.choice([-1,1])  # initial random x velocity\n",
    "                child.y_vel = np.sqrt((self.speed**2-self.x_vel**2))*np.random.choice([-1,1])\n",
    "                children.append(child)\n",
    "            self.pregnant=False\n",
    "        return children  # return new list of children\n",
    "        \n",
    "            \n",
    "    def reproduce(self,predator):\n",
    "        if self.pregnant==False and self.age>10 and self.reproductive_affinity<5:\n",
    "            x_diff = predator.x - self.x\n",
    "            y_diff = predator.y - self.y\n",
    "            if x_diff==0:\n",
    "                x_diff+=0.1\n",
    "            if np.sqrt(x_diff**2+y_diff**2) <= self.range:  # if whithin detection range\n",
    "                angle = np.arctan(y_diff/x_diff)\n",
    "                self.x_vel = self.speed = np.cos(angle)\n",
    "                self.y_vel = self.speed = np.sin(angle)\n",
    "            if np.sqrt(x_diff**2+y_diff**2) <=1:\n",
    "                self.pregnant=True\n",
    "                self.reproductive_affinity=10\n",
    "                \n",
    "    def move(self):\n",
    "        self.x= self.x + self.x_vel\n",
    "        self.y=self.y +self.y_vel\n",
    "        if self.x > maxx: # wrap from right side\n",
    "            self.x = 0\n",
    "        if self.x < 0:  # wrap from left side\n",
    "            self.x = maxx\n",
    "        if self.y > maxy:  # wrap from top\n",
    "            self.y = 0\n",
    "        if self.y < 0:  # wrap from bottom\n",
    "            self.y = maxy\n",
    "  \n",
    "    def hunt(self,prey):\n",
    "        if self.hunger<200:\n",
    "            x_diff = prey.x - self.x\n",
    "            y_diff = prey.y - self.y\n",
    "            if x_diff==0:\n",
    "                x_diff+=.01 \n",
    "            if np.sqrt(x_diff**2+y_diff**2) <= self.attack_range:  # if within attack range\n",
    "                if self.max_speed> prey.max_speed:\n",
    "                    # will kill if within attack range\n",
    "                    self.hunger += 1000  # eats prey\n",
    "                    prey.dead = 1\n",
    "               # self.x_vel=np.random.uniform(0,2)*np.random.choice([-1,1])  # initial random x velocity\n",
    "                #self.y_vel = np.sqrt((self.speed**2-self.x_vel**2))*np.random.choice([-1,1])  # calculate y-velocity based on speed and x-velocity\n",
    "   \n",
    "            #if np.sqrt(x_diff**2+y_diff**2) <= self.range:  # if within detection range\n",
    "                #angle = np.arctan(y_diff/x_diff)\n",
    "               # self.x_vel = self.max_speed = np.cos(angle)\n",
    "                #self.y_vel = self.max_speed = np.sin(angle)\n",
    "                \n",
    "    def forage():\n",
    "        if food>0:\n",
    "            hunger+=1\n",
    "    def update(self,prey,predator):\n",
    "        children=[]\n",
    "        if self.dead==0:\n",
    "            self.age += 0.1\n",
    "            self.hunger -=1\n",
    "            self.move()\n",
    "            self.hunt(prey)\n",
    "            #self.reproduce(predator)\n",
    "            self.reproductive_affinity-=1\n",
    "            #if self.age>= self.max_age:\n",
    "                #self.dead = 1\n",
    "            if self.pregnant==True:\n",
    "                self.pregnancy_time-=1\n",
    "                if self.pregnancy_time==0:\n",
    "                    children+= self.birth()\n",
    "            if self.hunger <=-1:\n",
    "                #self.dead=1\n",
    "                pass\n",
    "        return children\n",
    "    \n",
    "class Prey():# creating class for species- feel free to rename\n",
    "    def __init__(self):\n",
    "        #basic starting  stuffs\n",
    "        self.x = np.random.uniform(0, 100)  # initial random x position\n",
    "        self.y = np.random.uniform(0, 100)  # initial random y position\n",
    "        self.speed = np.random.uniform(2,3)  # non-directional speed\n",
    "        self.x_vel = np.random.uniform(0,2)*np.random.choice([-1,1])  # initial random x velocity\n",
    "        self.y_vel = np.sqrt((self.speed**2-self.x_vel**2))*np.random.choice([-1,1])  # calculate y-velocity based on speed and x-velocity\n",
    "        self.color= None\n",
    "        self.age = 10\n",
    "        self.max_age= 50#maximum age of animal\n",
    "        self.offspring = 10#number of offspring\n",
    "        self.hunger= 100#hunger level-- will die at 0\n",
    "        self.diet= Prey\n",
    "        self.range= 5# the area the animal can detect another\n",
    "        self.dead = 0\n",
    "        self.pregnant=False\n",
    "        self.pregnancy_time=2\n",
    "        self.reproductive_affinity=np.random.randint(10)\n",
    "        self.max_speed= np.random.uniform(5)\n",
    "    def birth(self):\n",
    "        children = []  # list of new children\n",
    "        if self.pregnancy_time==0:  #if pregnancy_time is 0, will give birth\n",
    "            for i in range(self.offspring):  # make new children with same position\n",
    "                child=Prey()\n",
    "                child.speed=self.speed+np.random.uniform(0,2)*np.random.choice([-1,1])\n",
    "                child.max_age=self.max_age+np.random.uniform(0,2)*np.random.choice([-1,1])\n",
    "                child.range=self.range+np.random.uniform(0,2)*np.random.choice([-1,1])\n",
    "                child.max_speed=self.max_speed+np.random.uniform(0,2)*np.random.choice([-1,1])\n",
    "                child.age=0\n",
    "                child.x=self.x\n",
    "                child.y=self.y\n",
    "                children.append(child)\n",
    "        self.pregnant=False\n",
    "        return children  # return new list of children\n",
    "        \n",
    "            \n",
    "    def reproduce(self,prey):\n",
    "        if self.pregnant==False and self.age>10 and self.reproductive_affinity==0:\n",
    "            x_diff = prey.x - self.x\n",
    "            y_diff = prey.y - self.y\n",
    "            if x_diff==0:\n",
    "                x_diff+=.1\n",
    "            if np.sqrt(x_diff**2+y_diff**2) <= self.range:  # if whithin detection range\n",
    "                angle = np.arctan(y_diff/x_diff)\n",
    "                self.x_vel = self.speed = np.cos(angle)\n",
    "                self.y_vel = self.speed = np.sin(angle)\n",
    "            if np.sqrt(x_diff**2+y_diff**2) <=1:\n",
    "                self.pregnant=True\n",
    "                \n",
    "    def move(self):\n",
    "        self.x= self.x + self.x_vel\n",
    "        self.y=self.y +self.y_vel\n",
    "        if self.x > maxx: # wrap from right side\n",
    "            self.x = 0\n",
    "        if self.x < 0:  # wrap from left side\n",
    "            self.x = maxx\n",
    "        if self.y > maxy:  # wrap from top\n",
    "            self.y = 0\n",
    "        if self.y < 0:  # wrap from bottom\n",
    "            self.y = maxy\n",
    "    #def run(self,predator):\n",
    "        #if predator.x or predator.y <=2:\n",
    "            #move away from predator\n",
    "            #x_diff = predator.x - self.x\n",
    "            #y_diff = predator.y - self.y\n",
    "           # if np.sqrt(x_diff**2+y_diff**2) <= self.range:  # if whithin detection range\n",
    "                #if self.max_speed<=predator.max_speed:\n",
    "                   # self.dead=1\n",
    "                #angle = np.arctan(y_diff/x_diff)\n",
    "                #self.x_vel = self.max_speed = -np.cos(angle)\n",
    "                #self.y_vel = self.max_speed = -np.sin(angle)\n",
    "    def eat(self):\n",
    "        if self.hunger<=3:\n",
    "            if self.diet== predator:\n",
    "                self.hunt(prey)\n",
    "            if self.diet== prey:\n",
    "                self.forage()\n",
    "    def forage():\n",
    "        if food>0:\n",
    "            hunger+=1\n",
    "    def update(self,prey):\n",
    "        children=[]\n",
    "        if self.dead==0:\n",
    "            self.age += 0.1\n",
    "            self.hunger -=0.1\n",
    "            self.move()\n",
    "            self.reproduce(prey)\n",
    "            self.reproductive_affinity-=1\n",
    "            #self.eat()\n",
    "            if self.age>= self.max_age:\n",
    "                self.dead = 1\n",
    "            elif self.pregnant==True:\n",
    "                self.pregnancy_time-=1\n",
    "                if self.pregnancy_time==0:\n",
    "                    children+= self.birth()\n",
    "            if self.hunger <=-1:\n",
    "                self.dead=1\n",
    "        \n",
    "        return children\n",
    "            \n"
   ]
  },
  {
   "cell_type": "code",
   "execution_count": 56,
   "metadata": {},
   "outputs": [],
   "source": [
    "\n",
    "def update(predators,prey): \n",
    "    for p in prey:  # iterate over all prey\n",
    "        if p.dead==1: # if the the prey is dead\n",
    "            prey.remove(p)  # remove it\n",
    "        else:\n",
    "            prey += p.update(p)  # update people stats\n",
    "    for m in predators:  # iterate over all predators\n",
    "        if m.dead==1: # if the predator is dead\n",
    "            predators.remove(m)  # remove it\n",
    "        else:  # if alive\n",
    "            for p in prey:\n",
    "                predators += m.update(p,m)\n",
    "    return len(prey), len(predators)\n",
    "            \n",
    "                \n",
    "        \n",
    "            \n",
    "                \n",
    " #These are my default settings, I will change them to see how the model is affected       \n",
    "predators = []  # list of predators\n",
    "for i in range(100):  # create 10 predators\n",
    "    predators.append(Predator())\n",
    "prey = []  # list of prey\n",
    "for i in range(100):  # create 200 prey\n",
    "    prey.append(Prey())  # create a prey each time"
   ]
  },
  {
   "cell_type": "code",
   "execution_count": 57,
   "metadata": {},
   "outputs": [
    {
     "name": "stdout",
     "output_type": "stream",
     "text": [
      "[0, 0, 0, 0, 0, 0, 0, 0, 0, 0, 0, 0, 0, 0, 0, 0, 0, 0, 0, 0, 0, 0, 0, 0, 0, 0, 0, 0, 0, 0, 0, 0, 0, 0, 0, 0, 0, 0, 0, 0, 0, 0, 0, 0, 0, 0, 0, 0, 0, 0, 0, 0, 0, 0, 0, 0, 0, 0, 0, 0, 0, 0, 0, 0, 0, 0, 0, 0, 0, 0, 0, 0, 0, 0, 0, 0, 0, 0, 0, 0, 0, 0, 0, 0, 0, 0, 0, 0, 0, 0, 0, 0, 0, 0, 0, 0, 0, 0, 0, 0]\n"
     ]
    }
   ],
   "source": [
    "print([p.dead for p in prey])"
   ]
  },
  {
   "cell_type": "code",
   "execution_count": 58,
   "metadata": {
    "scrolled": false
   },
   "outputs": [
    {
     "data": {
      "image/png": "[encoded data removed]",
      "text/plain": [
       "<Figure size 720x720 with 1 Axes>"
      ]
     },
     "metadata": {},
     "output_type": "display_data"
    },
    {
     "name": "stdout",
     "output_type": "stream",
     "text": [
      "31 100\n"
     ]
    },
    {
     "data": {
      "text/plain": [
       "<Figure size 720x720 with 0 Axes>"
      ]
     },
     "metadata": {},
     "output_type": "display_data"
    }
   ],
   "source": [
    "#This cell was for testing and changing variables. My results are in the results section\n",
    "\n",
    "fig = plt.figure(figsize=(10,10)) \n",
    "max_time = 100#time to run simulation\n",
    "time = list(range(0,max_time))\n",
    "\n",
    "for i in range(50): #loop over time\n",
    "    prey_count, predator_count=update(predators,prey)\n",
    "    print(prey_count,predator_count)\n",
    "    plt.figure(1)\n",
    "    plt.plot([p.x for p in predators],[p.y for p in predators], 'yo', ms=3) #plot predators as small yellow\n",
    "    plt.plot([g.x for g in prey],[g.y for g in prey], 'bo', ms=3) \n",
    "    #time.sleep(0.1)  #The time the code pauses between adding points\n",
    "    clear_output(wait = True) #Keeps the plot up rather than creating a new plot each time \n",
    "    display(fig)            # Reset display\n",
    "    fig.clear() \n",
    "print(prey_count,predator_count)\n"
   ]
  },
  {
   "cell_type": "code",
   "execution_count": 68,
   "metadata": {},
   "outputs": [
    {
     "name": "stdout",
     "output_type": "stream",
     "text": [
      "24 100\n"
     ]
    },
    {
     "data": {
      "image/png": "[encoded data removed]",
      "text/plain": [
       "<Figure size 432x288 with 1 Axes>"
      ]
     },
     "metadata": {
      "needs_background": "light"
     },
     "output_type": "display_data"
    },
    {
     "data": {
      "image/png": "[encoded data removed]",
      "text/plain": [
       "<Figure size 432x288 with 1 Axes>"
      ]
     },
     "metadata": {
      "needs_background": "light"
     },
     "output_type": "display_data"
    },
    {
     "data": {
      "image/png": "[encoded data removed]",
      "text/plain": [
       "<Figure size 432x288 with 1 Axes>"
      ]
     },
     "metadata": {
      "needs_background": "light"
     },
     "output_type": "display_data"
    }
   ],
   "source": [
    "                \n",
    " #These are my default settings, I will change them to see how the model is affected       \n",
    "predators = []  # list of predators\n",
    "for i in range(100):  # create 10 predators\n",
    "    predators.append(Predator())\n",
    "prey = []  # list of prey\n",
    "for i in range(100):  # create 200 prey\n",
    "    prey.append(Prey())  # create a prey each time\n",
    "\n",
    "\n",
    "for i in range(1): #loop over time\n",
    "    prey_count, predator_count=update(predators,prey)    \n",
    "plt.figure(1)\n",
    "sns.distplot([abs(p.max_speed) for p in prey])\n",
    "plt.title('Starting Prey Max speeds')\n",
    "\n",
    "fig = plt.figure(2) \n",
    "for i in range(25): #loop over time\n",
    "    prey_count, predator_count=update(predators,prey) \n",
    "plt.figure(2)\n",
    "sns.distplot([abs(p.max_speed) for p in prey])\n",
    "plt.title('Prey Max speeds after 25 time steps')\n",
    "    #clear_output(wait = True) #Keeps the plot up rather than creating a new plot each time \n",
    "    #display(fig)            # Reset display\n",
    "    #fig.clear() \n",
    "for i in range(25): #loop over time\n",
    "    prey_count, predator_count=update(predators,prey) \n",
    "plt.figure(3)\n",
    "sns.distplot([abs(p.max_speed) for p in prey])\n",
    "plt.title('Prey Max speeds after 50 time steps')\n",
    "print(prey_count, predator_count)"
   ]
  },
  {
   "cell_type": "code",
   "execution_count": null,
   "metadata": {},
   "outputs": [],
   "source": []
  },
  {
   "cell_type": "code",
   "execution_count": null,
   "metadata": {},
   "outputs": [],
   "source": []
  },
  {
   "cell_type": "code",
   "execution_count": null,
   "metadata": {},
   "outputs": [],
   "source": []
  }
 ],
 "metadata": {
  "kernelspec": {
   "display_name": "Python 3",
   "language": "python",
   "name": "python3"
  },
  "language_info": {
   "codemirror_mode": {
    "name": "ipython",
    "version": 3
   },
   "file_extension": ".py",
   "mimetype": "text/x-python",
   "name": "python",
   "nbconvert_exporter": "python",
   "pygments_lexer": "ipython3",
   "version": "3.7.4"
  }
 },
 "nbformat": 4,
 "nbformat_minor": 2
}
